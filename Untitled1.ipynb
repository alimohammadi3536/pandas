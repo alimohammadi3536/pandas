{
 "cells": [
  {
   "cell_type": "code",
   "execution_count": 1,
   "id": "0818eb65-a588-4073-9a78-605ea5aa00bc",
   "metadata": {},
   "outputs": [
    {
     "name": "stderr",
     "output_type": "stream",
     "text": [
      "WARNING: Package(s) not found: autogluon\n"
     ]
    }
   ],
   "source": [
    "!pip show autogluon"
   ]
  },
  {
   "cell_type": "code",
   "execution_count": null,
   "id": "eabcb53d-fe8e-41e2-bbf8-1e748d3b110c",
   "metadata": {},
   "outputs": [],
   "source": []
  }
 ],
 "metadata": {
  "kernelspec": {
   "display_name": "Python (autogluon_env)",
   "language": "python",
   "name": "autogluon_env"
  },
  "language_info": {
   "codemirror_mode": {
    "name": "ipython",
    "version": 3
   },
   "file_extension": ".py",
   "mimetype": "text/x-python",
   "name": "python",
   "nbconvert_exporter": "python",
   "pygments_lexer": "ipython3",
   "version": "3.10.16"
  }
 },
 "nbformat": 4,
 "nbformat_minor": 5
}
